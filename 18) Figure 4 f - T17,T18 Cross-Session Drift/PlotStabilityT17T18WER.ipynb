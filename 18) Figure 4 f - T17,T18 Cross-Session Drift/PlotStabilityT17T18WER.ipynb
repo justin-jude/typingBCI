{
 "cells": [
  {
   "cell_type": "code",
   "execution_count": null,
   "id": "498893ab-2768-407e-81a2-2929763d4f51",
   "metadata": {},
   "outputs": [],
   "source": [
    "import numpy as np\n",
    "import matplotlib.pyplot as plt\n",
    "import pandas as pd\n",
    "import seaborn as sns\n",
    "import matplotlib.ticker as ticker\n",
    "num_train_trials = [10,20,30,40,50,60,70,80,90,100]\n",
    "all_raw_cers = []\n",
    "all_postLM_cers = []\n",
    "all_postLM_wers = []\n",
    "data_frame = []\n",
    "plt.rcParams[\"figure.figsize\"] = (9 ,7)\n",
    "sns.set_context(\"paper\", rc={\"font.size\":20,\"axes.titlesize\":20,\"axes.labelsize\":23, 'legend.fontsize': 12, 'lines.markersize':18})   \n",
    "\n",
    "\n",
    "num_train_trials = [0,1, 6, 7, 22, 23]\n",
    "for n_train in num_train_trials:\n",
    "    postLM_wers = np.load('T18StabilityPlot/T18Day-' + str(n_train) + '-PostLMWERs.npy')\n",
    "    for trial in range(postLM_wers.shape[0]):\n",
    "        data_frame.append([n_train, 'T18 Word Post Language Model', int(postLM_wers[trial]*100)])\n",
    "\n",
    "num_train_trials = [0,1, 2, 10, 37, 38, 50]\n",
    "for n_train in num_train_trials:\n",
    "    postLM_wers = np.load('T17StabilityPlot/T17Day-' + str(n_train) + '-PostLMWERs.npy')\n",
    "    for trial in range(postLM_wers.shape[0]):\n",
    "        data_frame.append([n_train, 'T17 Word Post Language Model', int(postLM_wers[trial]*100)])\n",
    "        \n",
    "df = pd.DataFrame(data_frame, columns=['Days between RNN training and evaluation', 'Metric', 'Word Error Rate (%)'])\n",
    "print(df)\n",
    "flatui = ['red','blue',]\n",
    "sns.set_palette(flatui)\n",
    "g = sns.lineplot(x='Days between RNN training and evaluation', y='Word Error Rate (%)', hue='Metric', marker='o', data=df, linewidth=0,err_style='bars')\n",
    "sns.despine()\n",
    "plt.gca().legend().set_title('')\n",
    "plt.xscale('symlog',base=2) \n",
    "\n",
    "from matplotlib.ticker import ScalarFormatter, NullFormatter\n",
    "g.xaxis.set_major_formatter(ScalarFormatter())\n",
    "g.xaxis.set_minor_formatter(NullFormatter())\n",
    "plt.ylim([0, 103])\n",
    "plt.xlim([-0.2, 56])\n",
    "plt.legend(frameon=False)\n",
    "g.yaxis.set_major_locator(ticker.MultipleLocator(10))\n",
    "plt.xticks([0,1,2,5, 10, 20, 30, 40, 50],fontsize=18)\n",
    "plt.yticks(fontsize=20)\n",
    "sns.move_legend(g, \"upper left\", bbox_to_anchor=(1, 1))\n",
    "plt.legend('',frameon=False)\n",
    "plt.savefig('T17T18StabilityWER.pdf', bbox_inches='tight')\n",
    "plt.show()"
   ]
  }
 ],
 "metadata": {
  "kernelspec": {
   "display_name": "Python 3 (ipykernel)",
   "language": "python",
   "name": "python3"
  },
  "language_info": {
   "codemirror_mode": {
    "name": "ipython",
    "version": 3
   },
   "file_extension": ".py",
   "mimetype": "text/x-python",
   "name": "python",
   "nbconvert_exporter": "python",
   "pygments_lexer": "ipython3",
   "version": "3.11.5"
  }
 },
 "nbformat": 4,
 "nbformat_minor": 5
}
