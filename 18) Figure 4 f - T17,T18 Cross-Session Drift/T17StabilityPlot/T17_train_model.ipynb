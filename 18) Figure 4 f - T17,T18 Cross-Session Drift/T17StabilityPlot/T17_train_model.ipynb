{
 "cells": [
  {
   "cell_type": "markdown",
   "metadata": {},
   "source": [
    "## Create training datasets for decoder"
   ]
  },
  {
   "cell_type": "code",
   "execution_count": null,
   "metadata": {
    "scrolled": true
   },
   "outputs": [],
   "source": [
    "import sys\n",
    "sys.path.append('../../')\n",
    "import utils.mat_to_tfrecord\n",
    "from pathlib import Path\n",
    "import numpy as np\n",
    "\n",
    "from T17_SessionArgs import get_session_info\n",
    "\n",
    "\n",
    "sessions = [\n",
    "    't17.2024.07.09',\n",
    "    't17.2024.07.10',\n",
    "    't17.2024.07.22',\n",
    "     ]\n",
    "\n",
    "participant = 't17'\n",
    "bin_compression_factor = 2\n",
    "channels_to_exclude = list(range(128,256)) #list(range(256, 384)) if ignoring hand-knob arrays\n",
    "channels_to_zero = list(range(0,0)) #[] # leave empty to not zero anything\n",
    "\n",
    "for session in sessions:\n",
    "    \n",
    "    trials_to_remove, block_nums, num_test_trials = get_session_info(session)\n",
    "    session_path = str(Path('../Data', participant, session, 'Typing'))\n",
    "    tfdata_path = str(Path(session_path, 'tfdata_20ms'))\n",
    "\n",
    "    print(f'Sesison path: {session_path}')\n",
    "    print(f'tfdata path: {session_path}')\n",
    "    print('\\n')\n",
    "\n",
    "    args = {\n",
    "        'session_mat_path': session_path,\n",
    "        'block_nums': block_nums,\n",
    "        'num_test_trials': num_test_trials,\n",
    "        'trials_to_remove': trials_to_remove,\n",
    "        'channels_to_exclude': channels_to_exclude,\n",
    "        'channels_to_zero': channels_to_zero,\n",
    "        'include_thresh_crossings': True,\n",
    "        'include_spike_power': True,\n",
    "        'spike_pow_max': 50000,\n",
    "        'z_score_data': True,\n",
    "        'global_std': True,\n",
    "        'bin_compression_factor': bin_compression_factor,\n",
    "        'save_path': tfdata_path,\n",
    "    }\n",
    "\n",
    "    utils.mat_to_tfrecord.main(args)"
   ]
  },
  {
   "cell_type": "markdown",
   "metadata": {},
   "source": [
    "## Train the decoder. Remember to Restart the notebook first!"
   ]
  },
  {
   "cell_type": "code",
   "execution_count": null,
   "metadata": {},
   "outputs": [],
   "source": [
    "from omegaconf import OmegaConf\n",
    "import sys\n",
    "sys.path.append('../')\n",
    "from utils.brainToText_trainDecoder import brainToText_decoder\n",
    "\n",
    "args = OmegaConf.load('T17_trainArgs.yaml')\n",
    "\n",
    "decoder = brainToText_decoder(args)\n",
    "\n",
    "infOut, stats = decoder.train()"
   ]
  }
 ],
 "metadata": {
  "kernelspec": {
   "display_name": "Python 3 (ipykernel)",
   "language": "python",
   "name": "python3"
  },
  "language_info": {
   "codemirror_mode": {
    "name": "ipython",
    "version": 3
   },
   "file_extension": ".py",
   "mimetype": "text/x-python",
   "name": "python",
   "nbconvert_exporter": "python",
   "pygments_lexer": "ipython3",
   "version": "3.11.5"
  }
 },
 "nbformat": 4,
 "nbformat_minor": 4
}
